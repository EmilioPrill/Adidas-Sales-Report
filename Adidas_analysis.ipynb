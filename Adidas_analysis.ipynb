{
 "cells": [
  {
   "cell_type": "markdown",
   "id": "1da19c8d-ebee-431c-b2a3-b66703fbc77b",
   "metadata": {},
   "source": [
    "## Import The Data"
   ]
  },
  {
   "cell_type": "code",
   "execution_count": 41,
   "id": "b293bde0-66fd-4c41-9514-6254ea61b317",
   "metadata": {
    "tags": []
   },
   "outputs": [],
   "source": [
    "import pandas as pd\n",
    "import matplotlib.pyplot as plt\n",
    "\n",
    "df = pd.read_csv('Adidas.csv') "
   ]
  },
  {
   "cell_type": "code",
   "execution_count": 42,
   "id": "2b64e2f7-1016-4497-9573-0585d654ddac",
   "metadata": {
    "tags": []
   },
   "outputs": [
    {
     "data": {
      "text/html": [
       "<div>\n",
       "<style scoped>\n",
       "    .dataframe tbody tr th:only-of-type {\n",
       "        vertical-align: middle;\n",
       "    }\n",
       "\n",
       "    .dataframe tbody tr th {\n",
       "        vertical-align: top;\n",
       "    }\n",
       "\n",
       "    .dataframe thead th {\n",
       "        text-align: right;\n",
       "    }\n",
       "</style>\n",
       "<table border=\"1\" class=\"dataframe\">\n",
       "  <thead>\n",
       "    <tr style=\"text-align: right;\">\n",
       "      <th></th>\n",
       "      <th>Unnamed: 0</th>\n",
       "      <th>Unnamed: 1</th>\n",
       "      <th>Adidas Sales Database</th>\n",
       "      <th>Unnamed: 3</th>\n",
       "      <th>Unnamed: 4</th>\n",
       "      <th>Unnamed: 5</th>\n",
       "      <th>Unnamed: 6</th>\n",
       "      <th>Unnamed: 7</th>\n",
       "      <th>Unnamed: 8</th>\n",
       "      <th>Unnamed: 9</th>\n",
       "      <th>Unnamed: 10</th>\n",
       "      <th>Unnamed: 11</th>\n",
       "      <th>Unnamed: 12</th>\n",
       "      <th>Unnamed: 13</th>\n",
       "    </tr>\n",
       "  </thead>\n",
       "  <tbody>\n",
       "    <tr>\n",
       "      <th>0</th>\n",
       "      <td>NaN</td>\n",
       "      <td>NaN</td>\n",
       "      <td>NaN</td>\n",
       "      <td>NaN</td>\n",
       "      <td>NaN</td>\n",
       "      <td>NaN</td>\n",
       "      <td>NaN</td>\n",
       "      <td>NaN</td>\n",
       "      <td>NaN</td>\n",
       "      <td>NaN</td>\n",
       "      <td>NaN</td>\n",
       "      <td>NaN</td>\n",
       "      <td>NaN</td>\n",
       "      <td>NaN</td>\n",
       "    </tr>\n",
       "    <tr>\n",
       "      <th>1</th>\n",
       "      <td>NaN</td>\n",
       "      <td>Retailer</td>\n",
       "      <td>Retailer ID</td>\n",
       "      <td>Invoice Date</td>\n",
       "      <td>Region</td>\n",
       "      <td>State</td>\n",
       "      <td>City</td>\n",
       "      <td>Product</td>\n",
       "      <td>Price per Unit</td>\n",
       "      <td>Units Sold</td>\n",
       "      <td>Total Sales</td>\n",
       "      <td>Operating Profit</td>\n",
       "      <td>Operating Margin</td>\n",
       "      <td>Sales Method</td>\n",
       "    </tr>\n",
       "    <tr>\n",
       "      <th>2</th>\n",
       "      <td>NaN</td>\n",
       "      <td>Foot Locker</td>\n",
       "      <td>1185732</td>\n",
       "      <td>01-01-20</td>\n",
       "      <td>Northeast</td>\n",
       "      <td>New York</td>\n",
       "      <td>New York</td>\n",
       "      <td>Men's Street Footwear</td>\n",
       "      <td>50</td>\n",
       "      <td>1200</td>\n",
       "      <td>600000</td>\n",
       "      <td>300000</td>\n",
       "      <td>0.5</td>\n",
       "      <td>In-store</td>\n",
       "    </tr>\n",
       "    <tr>\n",
       "      <th>3</th>\n",
       "      <td>NaN</td>\n",
       "      <td>Foot Locker</td>\n",
       "      <td>1185732</td>\n",
       "      <td>01-02-20</td>\n",
       "      <td>Northeast</td>\n",
       "      <td>New York</td>\n",
       "      <td>New York</td>\n",
       "      <td>Men's Athletic Footwear</td>\n",
       "      <td>50</td>\n",
       "      <td>1000</td>\n",
       "      <td>500000</td>\n",
       "      <td>150000</td>\n",
       "      <td>0.3</td>\n",
       "      <td>In-store</td>\n",
       "    </tr>\n",
       "    <tr>\n",
       "      <th>4</th>\n",
       "      <td>NaN</td>\n",
       "      <td>Foot Locker</td>\n",
       "      <td>1185732</td>\n",
       "      <td>01-03-20</td>\n",
       "      <td>Northeast</td>\n",
       "      <td>New York</td>\n",
       "      <td>New York</td>\n",
       "      <td>Women's Street Footwear</td>\n",
       "      <td>40</td>\n",
       "      <td>1000</td>\n",
       "      <td>400000</td>\n",
       "      <td>140000</td>\n",
       "      <td>0.35</td>\n",
       "      <td>In-store</td>\n",
       "    </tr>\n",
       "    <tr>\n",
       "      <th>...</th>\n",
       "      <td>...</td>\n",
       "      <td>...</td>\n",
       "      <td>...</td>\n",
       "      <td>...</td>\n",
       "      <td>...</td>\n",
       "      <td>...</td>\n",
       "      <td>...</td>\n",
       "      <td>...</td>\n",
       "      <td>...</td>\n",
       "      <td>...</td>\n",
       "      <td>...</td>\n",
       "      <td>...</td>\n",
       "      <td>...</td>\n",
       "      <td>...</td>\n",
       "    </tr>\n",
       "    <tr>\n",
       "      <th>9645</th>\n",
       "      <td>NaN</td>\n",
       "      <td>Foot Locker</td>\n",
       "      <td>1185732</td>\n",
       "      <td>01-24-21</td>\n",
       "      <td>Northeast</td>\n",
       "      <td>New Hampshire</td>\n",
       "      <td>Manchester</td>\n",
       "      <td>Men's Apparel</td>\n",
       "      <td>50</td>\n",
       "      <td>64</td>\n",
       "      <td>3200</td>\n",
       "      <td>896</td>\n",
       "      <td>0.28000000000000003</td>\n",
       "      <td>Outlet</td>\n",
       "    </tr>\n",
       "    <tr>\n",
       "      <th>9646</th>\n",
       "      <td>NaN</td>\n",
       "      <td>Foot Locker</td>\n",
       "      <td>1185732</td>\n",
       "      <td>01-24-21</td>\n",
       "      <td>Northeast</td>\n",
       "      <td>New Hampshire</td>\n",
       "      <td>Manchester</td>\n",
       "      <td>Women's Apparel</td>\n",
       "      <td>41</td>\n",
       "      <td>105</td>\n",
       "      <td>4305</td>\n",
       "      <td>1377.6</td>\n",
       "      <td>0.32</td>\n",
       "      <td>Outlet</td>\n",
       "    </tr>\n",
       "    <tr>\n",
       "      <th>9647</th>\n",
       "      <td>NaN</td>\n",
       "      <td>Foot Locker</td>\n",
       "      <td>1185732</td>\n",
       "      <td>02-22-21</td>\n",
       "      <td>Northeast</td>\n",
       "      <td>New Hampshire</td>\n",
       "      <td>Manchester</td>\n",
       "      <td>Men's Street Footwear</td>\n",
       "      <td>41</td>\n",
       "      <td>184</td>\n",
       "      <td>7544</td>\n",
       "      <td>2791.28</td>\n",
       "      <td>0.37000000000000005</td>\n",
       "      <td>Outlet</td>\n",
       "    </tr>\n",
       "    <tr>\n",
       "      <th>9648</th>\n",
       "      <td>NaN</td>\n",
       "      <td>Foot Locker</td>\n",
       "      <td>1185732</td>\n",
       "      <td>02-22-21</td>\n",
       "      <td>Northeast</td>\n",
       "      <td>New Hampshire</td>\n",
       "      <td>Manchester</td>\n",
       "      <td>Men's Athletic Footwear</td>\n",
       "      <td>42</td>\n",
       "      <td>70</td>\n",
       "      <td>2940</td>\n",
       "      <td>1234.8</td>\n",
       "      <td>0.42000000000000004</td>\n",
       "      <td>Outlet</td>\n",
       "    </tr>\n",
       "    <tr>\n",
       "      <th>9649</th>\n",
       "      <td>NaN</td>\n",
       "      <td>Foot Locker</td>\n",
       "      <td>1185732</td>\n",
       "      <td>02-22-21</td>\n",
       "      <td>Northeast</td>\n",
       "      <td>New Hampshire</td>\n",
       "      <td>Manchester</td>\n",
       "      <td>Women's Street Footwear</td>\n",
       "      <td>29</td>\n",
       "      <td>83</td>\n",
       "      <td>2407</td>\n",
       "      <td>649.89</td>\n",
       "      <td>0.27</td>\n",
       "      <td>Outlet</td>\n",
       "    </tr>\n",
       "  </tbody>\n",
       "</table>\n",
       "<p>9650 rows × 14 columns</p>\n",
       "</div>"
      ],
      "text/plain": [
       "      Unnamed: 0   Unnamed: 1 Adidas Sales Database    Unnamed: 3 Unnamed: 4   \n",
       "0            NaN          NaN                   NaN           NaN        NaN  \\\n",
       "1            NaN     Retailer           Retailer ID  Invoice Date     Region   \n",
       "2            NaN  Foot Locker               1185732      01-01-20  Northeast   \n",
       "3            NaN  Foot Locker               1185732      01-02-20  Northeast   \n",
       "4            NaN  Foot Locker               1185732      01-03-20  Northeast   \n",
       "...          ...          ...                   ...           ...        ...   \n",
       "9645         NaN  Foot Locker               1185732      01-24-21  Northeast   \n",
       "9646         NaN  Foot Locker               1185732      01-24-21  Northeast   \n",
       "9647         NaN  Foot Locker               1185732      02-22-21  Northeast   \n",
       "9648         NaN  Foot Locker               1185732      02-22-21  Northeast   \n",
       "9649         NaN  Foot Locker               1185732      02-22-21  Northeast   \n",
       "\n",
       "         Unnamed: 5  Unnamed: 6               Unnamed: 7      Unnamed: 8   \n",
       "0               NaN         NaN                      NaN             NaN  \\\n",
       "1             State        City                  Product  Price per Unit   \n",
       "2          New York    New York    Men's Street Footwear              50   \n",
       "3          New York    New York  Men's Athletic Footwear              50   \n",
       "4          New York    New York  Women's Street Footwear              40   \n",
       "...             ...         ...                      ...             ...   \n",
       "9645  New Hampshire  Manchester            Men's Apparel              50   \n",
       "9646  New Hampshire  Manchester          Women's Apparel              41   \n",
       "9647  New Hampshire  Manchester    Men's Street Footwear              41   \n",
       "9648  New Hampshire  Manchester  Men's Athletic Footwear              42   \n",
       "9649  New Hampshire  Manchester  Women's Street Footwear              29   \n",
       "\n",
       "      Unnamed: 9  Unnamed: 10       Unnamed: 11          Unnamed: 12   \n",
       "0            NaN          NaN               NaN                  NaN  \\\n",
       "1     Units Sold  Total Sales  Operating Profit     Operating Margin   \n",
       "2           1200       600000            300000                  0.5   \n",
       "3           1000       500000            150000                  0.3   \n",
       "4           1000       400000            140000                 0.35   \n",
       "...          ...          ...               ...                  ...   \n",
       "9645          64         3200               896  0.28000000000000003   \n",
       "9646         105         4305            1377.6                 0.32   \n",
       "9647         184         7544           2791.28  0.37000000000000005   \n",
       "9648          70         2940            1234.8  0.42000000000000004   \n",
       "9649          83         2407            649.89                 0.27   \n",
       "\n",
       "       Unnamed: 13  \n",
       "0              NaN  \n",
       "1     Sales Method  \n",
       "2         In-store  \n",
       "3         In-store  \n",
       "4         In-store  \n",
       "...            ...  \n",
       "9645        Outlet  \n",
       "9646        Outlet  \n",
       "9647        Outlet  \n",
       "9648        Outlet  \n",
       "9649        Outlet  \n",
       "\n",
       "[9650 rows x 14 columns]"
      ]
     },
     "execution_count": 42,
     "metadata": {},
     "output_type": "execute_result"
    }
   ],
   "source": [
    "df"
   ]
  },
  {
   "cell_type": "markdown",
   "id": "dd8384d0-1ef1-43e1-9a33-27dfb392018b",
   "metadata": {},
   "source": [
    "## Renaming Columns"
   ]
  },
  {
   "cell_type": "code",
   "execution_count": 48,
   "id": "7f9a8064-5724-4b15-a5b7-3c31fe483774",
   "metadata": {
    "tags": []
   },
   "outputs": [],
   "source": [
    "df = df.rename(columns={'Invoice Date' : 'InvoiceDate'})\n",
    "df = df.rename(columns={'Price per Unit' : 'ppu'})\n",
    "df = df.rename(columns={'Units Sold' : 'Units_sold'})\n",
    "df = df.rename(columns={'Total Sales' : 'Total_sales'})\n",
    "df = df.rename(columns={'Operating Profit' : 'Operating_profit'})\n",
    "df = df.rename(columns={'Operating Margin' : 'Operating_margin'})\n",
    "df = df.rename(columns={'Sales Method' : 'Sales_method'})"
   ]
  },
  {
   "cell_type": "markdown",
   "id": "2c3cbb55-a4a1-4189-95ec-c1354900db13",
   "metadata": {},
   "source": [
    "## Start the Data Cleaning"
   ]
  },
  {
   "cell_type": "code",
   "execution_count": 44,
   "id": "f8421afb-c23c-42ca-8490-f509cef88737",
   "metadata": {
    "tags": []
   },
   "outputs": [],
   "source": [
    "df = df.drop('Unnamed: 0', axis=1)\n",
    "df = df.iloc[1:]\n",
    "# Drop all NaN's"
   ]
  },
  {
   "cell_type": "code",
   "execution_count": 45,
   "id": "e00b79f7-8b80-4386-a416-4e529c6bd0ac",
   "metadata": {
    "tags": []
   },
   "outputs": [],
   "source": [
    "df.columns = df.iloc[0]\n",
    "df = df.iloc[1:].reset_index(drop=True)\n",
    "# Resetting the Index"
   ]
  },
  {
   "cell_type": "code",
   "execution_count": 64,
   "id": "b9332604-5fd4-4832-ab27-6bc35c5f1469",
   "metadata": {
    "tags": []
   },
   "outputs": [
    {
     "data": {
      "text/html": [
       "<div>\n",
       "<style scoped>\n",
       "    .dataframe tbody tr th:only-of-type {\n",
       "        vertical-align: middle;\n",
       "    }\n",
       "\n",
       "    .dataframe tbody tr th {\n",
       "        vertical-align: top;\n",
       "    }\n",
       "\n",
       "    .dataframe thead th {\n",
       "        text-align: right;\n",
       "    }\n",
       "</style>\n",
       "<table border=\"1\" class=\"dataframe\">\n",
       "  <thead>\n",
       "    <tr style=\"text-align: right;\">\n",
       "      <th>1</th>\n",
       "      <th>Retailer</th>\n",
       "      <th>Retailer ID</th>\n",
       "      <th>InvoiceDate</th>\n",
       "      <th>Region</th>\n",
       "      <th>State</th>\n",
       "      <th>City</th>\n",
       "      <th>Product</th>\n",
       "      <th>ppu</th>\n",
       "      <th>Units_sold</th>\n",
       "      <th>Total_sales</th>\n",
       "      <th>Operating_profit</th>\n",
       "      <th>Operating_margin</th>\n",
       "      <th>Sales_method</th>\n",
       "    </tr>\n",
       "  </thead>\n",
       "  <tbody>\n",
       "  </tbody>\n",
       "</table>\n",
       "</div>"
      ],
      "text/plain": [
       "Empty DataFrame\n",
       "Columns: [Retailer, Retailer ID, InvoiceDate, Region, State, City, Product, ppu, Units_sold, Total_sales, Operating_profit, Operating_margin, Sales_method]\n",
       "Index: []"
      ]
     },
     "execution_count": 64,
     "metadata": {},
     "output_type": "execute_result"
    }
   ],
   "source": [
    "null = df[df['Total_sales'] == 0]\n",
    "null\n",
    "# Spotting Rows with Value 0 "
   ]
  },
  {
   "cell_type": "code",
   "execution_count": 63,
   "id": "f7e845c1-a7c9-4b68-9b87-3085faab5618",
   "metadata": {
    "tags": []
   },
   "outputs": [],
   "source": [
    "df.drop(null.index, inplace=True)\n",
    "# Drop them"
   ]
  },
  {
   "cell_type": "markdown",
   "id": "6b48ff0d-5a4a-41c0-9b86-6c2ddbd96695",
   "metadata": {},
   "source": [
    "## DType Transformation"
   ]
  },
  {
   "cell_type": "code",
   "execution_count": 51,
   "id": "cbe158c6-7846-4137-b194-f655d55129ee",
   "metadata": {
    "tags": []
   },
   "outputs": [
    {
     "name": "stderr",
     "output_type": "stream",
     "text": [
      "C:\\Users\\Emilio\\AppData\\Local\\Temp\\ipykernel_8384\\1130915971.py:1: UserWarning: Could not infer format, so each element will be parsed individually, falling back to `dateutil`. To ensure parsing is consistent and as-expected, please specify a format.\n",
      "  df['InvoiceDate'] = pd.to_datetime(df['InvoiceDate'])\n"
     ]
    }
   ],
   "source": [
    "df['InvoiceDate'] = pd.to_datetime(df['InvoiceDate'])\n",
    "df['ppu'] = df['ppu'].astype('int64')\n",
    "df['Units_sold'] = df['Units_sold'].astype('int64')\n",
    "df['Total_sales'] = df['Total_sales'].astype('int64')\n",
    "df['Operating_profit'] = df['Operating_profit'].astype('float64')\n",
    "df['Operating_margin'] = df['Operating_margin'].astype('float64')"
   ]
  },
  {
   "cell_type": "markdown",
   "id": "703cdcb3-3490-4612-9799-15d9d2ccaa55",
   "metadata": {},
   "source": [
    "## Start with Basic EDA"
   ]
  },
  {
   "cell_type": "code",
   "execution_count": 52,
   "id": "e5030b71-93de-4f42-acde-fb9854139812",
   "metadata": {
    "tags": []
   },
   "outputs": [
    {
     "data": {
      "image/png": "[encoded data removed]",
      "text/plain": [
       "<Figure size 640x480 with 1 Axes>"
      ]
     },
     "metadata": {},
     "output_type": "display_data"
    }
   ],
   "source": [
    "plt.scatter(df['InvoiceDate'], df['Total_sales'])\n",
    "plt.xlabel('Date')\n",
    "plt.ylabel('Sales')\n",
    "plt.title('Time Series Analysis')\n",
    "plt.show()"
   ]
  },
  {
   "cell_type": "code",
   "execution_count": null,
   "id": "f01eab42-aef2-487d-8d92-9e55c8244aa3",
   "metadata": {},
   "outputs": [],
   "source": [
    "# I See that the Sales Increase over Time"
   ]
  },
  {
   "cell_type": "code",
   "execution_count": 53,
   "id": "63923a88-3d28-4704-b3b7-6d23b8367b3e",
   "metadata": {
    "tags": []
   },
   "outputs": [
    {
     "data": {
      "image/png": "[encoded data removed]",
      "text/plain": [
       "<Figure size 640x480 with 1 Axes>"
      ]
     },
     "metadata": {},
     "output_type": "display_data"
    }
   ],
   "source": [
    "df = df.sort_values('InvoiceDate')\n",
    "\n",
    "plt.plot(df['InvoiceDate'], df['Total_sales'])\n",
    "plt.show()"
   ]
  },
  {
   "cell_type": "code",
   "execution_count": null,
   "id": "ff0e36ca-2482-4b77-90a8-9211da071788",
   "metadata": {},
   "outputs": [],
   "source": [
    "# Double Check"
   ]
  },
  {
   "cell_type": "markdown",
   "id": "358c630c-bc8f-4429-b44b-7e78d6c30d39",
   "metadata": {},
   "source": [
    "## Some Statistics to Understand the Distribution"
   ]
  },
  {
   "cell_type": "code",
   "execution_count": 54,
   "id": "212da3a6-bf20-4e62-8c8f-4063b6228abf",
   "metadata": {
    "tags": []
   },
   "outputs": [
    {
     "data": {
      "text/plain": [
       "count      9648.000000\n",
       "mean      93273.437500\n",
       "std      141916.016727\n",
       "min           0.000000\n",
       "25%        4254.500000\n",
       "50%        9576.000000\n",
       "75%      150000.000000\n",
       "max      825000.000000\n",
       "Name: Total_sales, dtype: float64"
      ]
     },
     "execution_count": 54,
     "metadata": {},
     "output_type": "execute_result"
    }
   ],
   "source": [
    "df['Total_sales'].describe()"
   ]
  },
  {
   "cell_type": "code",
   "execution_count": 55,
   "id": "6e3806ff-afe2-4f2a-ac99-6fe2e0fc0fec",
   "metadata": {
    "tags": []
   },
   "outputs": [
    {
     "data": {
      "text/plain": [
       "825000"
      ]
     },
     "execution_count": 55,
     "metadata": {},
     "output_type": "execute_result"
    }
   ],
   "source": [
    "df['Total_sales'].max()"
   ]
  },
  {
   "cell_type": "code",
   "execution_count": 65,
   "id": "aa202e2b-e988-402b-888f-39de83e757f8",
   "metadata": {
    "tags": []
   },
   "outputs": [
    {
     "data": {
      "text/plain": [
       "160"
      ]
     },
     "execution_count": 65,
     "metadata": {},
     "output_type": "execute_result"
    }
   ],
   "source": [
    "df['Total_sales'].min()"
   ]
  },
  {
   "cell_type": "code",
   "execution_count": 69,
   "id": "6eb33b64-b053-4128-911e-5586d27c2b41",
   "metadata": {
    "tags": []
   },
   "outputs": [
    {
     "data": {
      "text/plain": [
       "796.6529181041407"
      ]
     },
     "execution_count": 69,
     "metadata": {},
     "output_type": "execute_result"
    }
   ],
   "source": [
    "mean_value = df['Total_sales'].mean()\n",
    "max_value = df['Total_sales'].max()\n",
    "min_value = df['Total_sales'].min()\n",
    "\n",
    "percent_above_mean = ((max_value - mean_value) / mean_value) * 100\n",
    "percent_above_mean\n",
    "# See how much Percent the Highest Value is more then the Mean"
   ]
  },
  {
   "cell_type": "code",
   "execution_count": 70,
   "id": "3bb62a23-e7e0-4d45-9a60-621f88526ed2",
   "metadata": {
    "tags": []
   },
   "outputs": [
    {
     "data": {
      "text/plain": [
       "57405.52857065629"
      ]
     },
     "execution_count": 70,
     "metadata": {},
     "output_type": "execute_result"
    }
   ],
   "source": [
    "percent_below_mean = ((mean_value - min_value) / min_value) * 100\n",
    "percent_below_mean\n",
    "# See how much Percent the mean is larger then the minimum Value"
   ]
  },
  {
   "cell_type": "markdown",
   "id": "15483366-5980-4e11-953c-9230145a2976",
   "metadata": {},
   "source": []
  },
  {
   "cell_type": "markdown",
   "id": "5c951811-3362-499a-8c4d-fea036ce50b9",
   "metadata": {},
   "source": [
    "## Get Basic Insights"
   ]
  },
  {
   "cell_type": "code",
   "execution_count": 72,
   "id": "5200c63a-6b9b-4ea1-b90e-af2e8ebd2673",
   "metadata": {
    "tags": []
   },
   "outputs": [
    {
     "data": {
      "text/plain": [
       "Sales_method\n",
       "Online      4751\n",
       "Outlet      2816\n",
       "In-store    1682\n",
       "Name: count, dtype: int64"
      ]
     },
     "execution_count": 72,
     "metadata": {},
     "output_type": "execute_result"
    }
   ],
   "source": [
    "df['Sales_method'].value_counts()"
   ]
  },
  {
   "cell_type": "code",
   "execution_count": 73,
   "id": "7c4bf22a-86da-458d-a17b-7b7fc5ecbf63",
   "metadata": {
    "tags": []
   },
   "outputs": [
    {
     "data": {
      "text/plain": [
       "Retailer\n",
       "Foot Locker      2492\n",
       "West Gear        2120\n",
       "Sports Direct    2032\n",
       "Kohl's           1030\n",
       "Amazon            949\n",
       "Walmart           626\n",
       "Name: count, dtype: int64"
      ]
     },
     "execution_count": 73,
     "metadata": {},
     "output_type": "execute_result"
    }
   ],
   "source": [
    "df['Retailer'].value_counts()"
   ]
  },
  {
   "cell_type": "code",
   "execution_count": 77,
   "id": "d6206889-93bc-467a-8f28-20a6b015094a",
   "metadata": {
    "tags": []
   },
   "outputs": [
    {
     "data": {
      "text/plain": [
       "City\n",
       "Charleston        39974797\n",
       "San Francisco     34539220\n",
       "Miami             31600863\n",
       "Portland          30545652\n",
       "Orlando           27682851\n",
       "Seattle           26330718\n",
       "Los Angeles       25634913\n",
       "Houston           25456882\n",
       "Albany            24427804\n",
       "Charlotte         23956531\n",
       "New Orleans       23750781\n",
       "Honolulu          22282457\n",
       "Richmond          21575040\n",
       "Dallas            20902864\n",
       "Albuquerque       19865016\n",
       "Boise             19276878\n",
       "Atlanta           18997466\n",
       "Denver            18899776\n",
       "Detroit           18625433\n",
       "Cheyenne          18577517\n",
       "Columbus          18484583\n",
       "Knoxville         18067440\n",
       "Birmingham        17633424\n",
       "Manchester        16411667\n",
       "Phoenix           15782221\n",
       "Billings          15710886\n",
       "Jackson           15591709\n",
       "New York          14792667\n",
       "Anchorage         14753103\n",
       "Burlington        14352923\n",
       "Little Rock       12639347\n",
       "Wilmington        12298412\n",
       "Hartford          11573448\n",
       "Boston            11076810\n",
       "Oklahoma City     10620734\n",
       "Louisville        10072848\n",
       "Wichita            9972864\n",
       "Newark             9934246\n",
       "Chicago            9797488\n",
       "Salt Lake City     9696420\n",
       "St. Louis          9683265\n",
       "Philadelphia       9409045\n",
       "Indianapolis       8836198\n",
       "Sioux Falls        8495576\n",
       "Providence         8446806\n",
       "Baltimore          7758059\n",
       "Fargo              7735580\n",
       "Milwaukee          7727469\n",
       "Des Moines         7424011\n",
       "Minneapolis        7378068\n",
       "Omaha              5929038\n",
       "Name: Total_sales, dtype: int64"
      ]
     },
     "execution_count": 77,
     "metadata": {},
     "output_type": "execute_result"
    }
   ],
   "source": [
    "sales_by_city = df.groupby('City')['Total_sales'].sum().sort_values(ascending=False)\n",
    "sales_by_city\n",
    "# Looking what City Performs the Best / Worse"
   ]
  },
  {
   "cell_type": "code",
   "execution_count": 78,
   "id": "e0db55af-f6ff-4392-8890-2f97daef4f83",
   "metadata": {
    "tags": []
   },
   "outputs": [
    {
     "data": {
      "text/plain": [
       "Product\n",
       "Women's Apparel              1544\n",
       "Men's Street Footwear        1543\n",
       "Men's Athletic Footwear      1543\n",
       "Men's Apparel                1543\n",
       "Women's Street Footwear      1541\n",
       "Women's Athletic Footwear    1535\n",
       "Name: count, dtype: int64"
      ]
     },
     "execution_count": 78,
     "metadata": {},
     "output_type": "execute_result"
    }
   ],
   "source": [
    "df['Product'].value_counts()"
   ]
  },
  {
   "cell_type": "markdown",
   "id": "0ade7f2b-51b5-457e-b616-038567d5f2c8",
   "metadata": {},
   "source": [
    "## Safe and Continue Analysis in Power BI"
   ]
  },
  {
   "cell_type": "code",
   "execution_count": null,
   "id": "8a297a92-192c-4de8-b34f-64d7e444dfa0",
   "metadata": {},
   "outputs": [],
   "source": [
    "#df.to_csv(adidas_sales.csv')"
   ]
  }
 ],
 "metadata": {
  "kernelspec": {
   "display_name": "Python 3 (ipykernel)",
   "language": "python",
   "name": "python3"
  },
  "language_info": {
   "codemirror_mode": {
    "name": "ipython",
    "version": 3
   },
   "file_extension": ".py",
   "mimetype": "text/x-python",
   "name": "python",
   "nbconvert_exporter": "python",
   "pygments_lexer": "ipython3",
   "version": "3.11.2"
  }
 },
 "nbformat": 4,
 "nbformat_minor": 5
}
